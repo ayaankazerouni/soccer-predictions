{
 "cells": [
  {
   "cell_type": "code",
   "execution_count": null,
   "metadata": {
    "collapsed": false
   },
   "outputs": [],
   "source": [
    "import sqlite3\n",
    "import pandas as pd\n",
    "import datetime\n",
    "\n",
    "conn = sqlite3.connect('../database.sqlite')\n",
    "query_matches = \\\n",
    "    'select match_api_id, home_team_api_id, away_team_api_id, home_team_goal, away_team_goal, date \\\n",
    "    from Match order by id limit 3000;'\n",
    "matches = pd.read_sql(query_matches, conn, index_col='match_api_id', parse_dates=['date']);\n",
    "matches.head(6)"
   ]
  },
  {
   "cell_type": "code",
   "execution_count": null,
   "metadata": {
    "collapsed": false
   },
   "outputs": [],
   "source": [
    "def teamattrs(team_api_id, matchdate):\n",
    "    \"\"\"\n",
    "    Helper method that gets the specified team's attributes from\n",
    "    the date closest to matchdate.\n",
    "    \n",
    "    Keyword arguments:\n",
    "    team_api_id -- the api_id of the team of interest (Integer)\n",
    "    matchdate -- pd.Timestamp\n",
    "    \"\"\"\n",
    "    query = \\\n",
    "        'select date, buildUpPlaySpeed, buildUpPlayPassing, \\\n",
    "                chanceCreationPassing, chanceCreationCrossing, chanceCreationShooting, \\\n",
    "                defencePressure, defenceAggression, defenceTeamWidth \\\n",
    "        from Team_Attributes \\\n",
    "        where team_api_id = %s \\\n",
    "        order by date asc;' % team_api_id\n",
    "    attrs = pd.read_sql(query, conn, parse_dates=['date'])\n",
    "    if (not attrs.empty):\n",
    "        closestattrs = None\n",
    "        mindiff = None\n",
    "        for index, row in attrs.iterrows():\n",
    "            date = row['date']\n",
    "            diff = abs(matchdate - date)\n",
    "            if (mindiff is None or diff < mindiff):\n",
    "                mindiff = diff\n",
    "                closestattrs = row\n",
    "        return closestattrs.drop('date')\n",
    "    else:\n",
    "        return None\n",
    "    \n",
    "print('Example output from teamattrs:\\n')\n",
    "teamattrs(9993, pd.to_datetime('2008-08-16'))"
   ]
  },
  {
   "cell_type": "code",
   "execution_count": null,
   "metadata": {
    "collapsed": false
   },
   "outputs": [],
   "source": [
    "def differencevector(row):\n",
    "    \"\"\"\n",
    "    This function is applied to each row in the 'matches' DataFrame.\n",
    "    For each row, it returns a pandas.Series containing the number of\n",
    "    goals scored by each team and the result from the home team's\n",
    "    perspective.\n",
    "    \n",
    "    Keyword arguments:\n",
    "    row -- pandas.Series\n",
    "    \"\"\"\n",
    "    date = row['date']\n",
    "    homegoal = row['home_team_goal']\n",
    "    homeattrs = teamattrs(row['home_team_api_id'], date)\n",
    "    \n",
    "    awaygoal = row['away_team_goal']\n",
    "    awayattrs = teamattrs(row['away_team_api_id'], date)\n",
    "    \n",
    "    if (homeattrs is not None and awayattrs is not None):\n",
    "        differencevector = homeattrs - awayattrs\n",
    "\n",
    "        if (homegoal > awaygoal):\n",
    "            result = 2\n",
    "        elif (awaygoal >= homegoal):\n",
    "            result = 0\n",
    "        else:\n",
    "            result = 1\n",
    "\n",
    "        results = pd.Series({\n",
    "            'home_team_api_id': row['home_team_api_id'],\n",
    "            'away_team_api_id': row['away_team_api_id'],\n",
    "            'outcome':  result\n",
    "        })\n",
    "        return results.append([differencevector])\n",
    "    else:\n",
    "        return\n",
    "\n",
    "results = matches.apply(differencevector, axis=1).dropna(axis=0, how='all')\n",
    "conn.close()\n",
    "results"
   ]
  },
  {
   "cell_type": "code",
   "execution_count": null,
   "metadata": {
    "collapsed": false
   },
   "outputs": [],
   "source": [
    "from sklearn.tree import DecisionTreeClassifier\n",
    "\n",
    "features = [\n",
    "    'buildUpPlaySpeed',\n",
    "    'buildUpPlayPassing',\n",
    "    'chanceCreationPassing',\n",
    "    'chanceCreationCrossing',\n",
    "    'chanceCreationShooting',\n",
    "    'defencePressure',\n",
    "    'defenceAggression',\n",
    "    'defenceTeamWidth'\n",
    "]\n",
    "\n",
    "x = results[features]\n",
    "y = results['outcome']\n",
    "\n",
    "dt = DecisionTreeClassifier()\n",
    "dt = dt.fit(x, y)"
   ]
  }
 ],
 "metadata": {
  "anaconda-cloud": {},
  "kernelspec": {
   "display_name": "Python [conda root]",
   "language": "python",
   "name": "conda-root-py"
  },
  "language_info": {
   "codemirror_mode": {
    "name": "ipython",
    "version": 3
   },
   "file_extension": ".py",
   "mimetype": "text/x-python",
   "name": "python",
   "nbconvert_exporter": "python",
   "pygments_lexer": "ipython3",
   "version": "3.5.2"
  }
 },
 "nbformat": 4,
 "nbformat_minor": 1
}
